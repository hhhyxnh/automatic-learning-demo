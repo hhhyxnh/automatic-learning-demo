{
 "cells": [
  {
   "cell_type": "markdown",
   "id": "d547537b-f4eb-40c2-8bdb-ee36620a1ce0",
   "metadata": {},
   "source": [
    "经测试，由notebook运行会有torch显存无法释放的错误，请开启一个终端输入以下代码运行："
   ]
  },
  {
   "cell_type": "code",
   "execution_count": null,
   "id": "7a9ff531-e1ae-494c-badc-e183391b9c33",
   "metadata": {},
   "outputs": [],
   "source": [
    "cd /root/Bert-VITS2/&&python webui.py"
   ]
  },
  {
   "cell_type": "markdown",
   "id": "9851ae12-a07f-4aca-81e2-e8e18be18868",
   "metadata": {},
   "source": [
    "写在后面：    \n",
    "恭喜你跑完了所有数据处理和训练，现在试试看吧       \n",
    "这个项目主要还是出于个人想法和鼓励大家探索学习，测试的时候能做出比较好玩的效果，但是限于6b的智力，效果有限。感兴趣的话可以去看看torchkeras这个开源LLM训练库      \n",
    "项目的效果的不确定性主要来自于对话集的整理，建议自己可以多看看对话集的内容到底是什么，后续可能也会更新一些其他的对话集制作方法，自己做点人工对话集来训练，你也来试试吧      \n",
    "bert-vits2的效果还是比较稳定的，也可以不筛选数量来训练。\n",
    "要是觉得语速太快了把Length Scale调成1.1试试看     \n",
    "一般来说loss略微高于1会比较好，可以自己调整下训练的保存代码，有标明      \n",
    "对了，终端的打断程序执行的快捷键是contorl+c        \n",
    "have fun ,2023/12/1"
   ]
  },
  {
   "cell_type": "code",
   "execution_count": null,
   "id": "0d755d18-7cf9-4873-9736-037b0f95067d",
   "metadata": {},
   "outputs": [],
   "source": []
  }
 ],
 "metadata": {
  "kernelspec": {
   "display_name": "Python 3 (ipykernel)",
   "language": "python",
   "name": "python3"
  },
  "language_info": {
   "codemirror_mode": {
    "name": "ipython",
    "version": 3
   },
   "file_extension": ".py",
   "mimetype": "text/x-python",
   "name": "python",
   "nbconvert_exporter": "python",
   "pygments_lexer": "ipython3",
   "version": "3.8.10"
  }
 },
 "nbformat": 4,
 "nbformat_minor": 5
}
