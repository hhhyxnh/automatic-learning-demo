{
 "cells": [
  {
   "cell_type": "markdown",
   "id": "a0c8ff49-0d98-4d90-852a-78e3d964bc49",
   "metadata": {},
   "source": [
    "感谢运行本镜像     \n",
    "注意事项：     \n",
    "1.由于you-get不可用，视频下载器改为BBDown，仅支持bilibili     \n",
    "2.GLM太大无法打包，已提供Modelscope的下载代码     \n",
    "3.webui都在外面的自定义服务里"
   ]
  },
  {
   "cell_type": "code",
   "execution_count": 1,
   "id": "1b6b78a3-e89d-4dc5-8241-e17ff91336fd",
   "metadata": {
    "tags": []
   },
   "outputs": [
    {
     "name": "stdout",
     "output_type": "stream",
     "text": [
      "缓存复制完成\n",
      "Running on local URL:  http://127.0.0.1:6006\n",
      "\n",
      "To create a public link, set `share=True` in `launch()`.\n"
     ]
    },
    {
     "data": {
      "text/html": [
       "<div><iframe src=\"http://127.0.0.1:6006/\" width=\"100%\" height=\"500\" allow=\"autoplay; camera; microphone; clipboard-read; clipboard-write;\" frameborder=\"0\" allowfullscreen></iframe></div>"
      ],
      "text/plain": [
       "<IPython.core.display.HTML object>"
      ]
     },
     "metadata": {},
     "output_type": "display_data"
    }
   ],
   "source": [
    "%run download.py"
   ]
  }
 ],
 "metadata": {
  "kernelspec": {
   "display_name": "Python 3 (ipykernel)",
   "language": "python",
   "name": "python3"
  },
  "language_info": {
   "codemirror_mode": {
    "name": "ipython",
    "version": 3
   },
   "file_extension": ".py",
   "mimetype": "text/x-python",
   "name": "python",
   "nbconvert_exporter": "python",
   "pygments_lexer": "ipython3",
   "version": "3.8.10"
  }
 },
 "nbformat": 4,
 "nbformat_minor": 5
}
